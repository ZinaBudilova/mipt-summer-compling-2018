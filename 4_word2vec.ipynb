{
 "cells": [
  {
   "cell_type": "markdown",
   "metadata": {},
   "source": [
    "# word2vec и его модели\n",
    "\n",
    "За материал этого семинара большое спасибо Лизе Кузьменко, выпускнице ФиПЛа ВШЭ."
   ]
  },
  {
   "cell_type": "code",
   "execution_count": 1,
   "metadata": {},
   "outputs": [
    {
     "name": "stderr",
     "output_type": "stream",
     "text": [
      "C:\\Users\\user\\Anaconda3\\lib\\site-packages\\gensim\\utils.py:1209: UserWarning: detected Windows; aliasing chunkize to chunkize_serial\n",
      "  warnings.warn(\"detected Windows; aliasing chunkize to chunkize_serial\")\n"
     ]
    }
   ],
   "source": [
    "import gensim"
   ]
  },
  {
   "cell_type": "markdown",
   "metadata": {},
   "source": [
    "`gensim` -- это питоновская библиотека для семантического моделирования  "
   ]
  },
  {
   "cell_type": "markdown",
   "metadata": {},
   "source": [
    "## Что можно делать с word2vec?\n",
    "\n",
    "Можно обучать модели на своих данных. Это может пригодиться вам, если модели для вашего языка ещё нет. Или если текст документов очень специфичен (например, юридические докуенты).\n",
    "\n",
    "А можно -- загрузить готовую модель и использовать её."
   ]
  },
  {
   "cell_type": "markdown",
   "metadata": {},
   "source": [
    "## Загрузка модели\n",
    "\n",
    "Скачаем модель [отсюда](http://rusvectores.org/static/models/rusvectores4/RNC/ruscorpora_upos_skipgram_300_5_2018.vec.gz). Или с флешки.\n",
    "\n",
    "(Кстати, другие модели для русского скачать можно здесь - http://rusvectores.org/ru/models/).\n",
    "\n",
    "Модели бывают разных форматов и, в зависимости от этого, их надо по-разному считывыать. ААА"
   ]
  },
  {
   "cell_type": "code",
   "execution_count": 2,
   "metadata": {},
   "outputs": [],
   "source": [
    "m_path = 'ruscorpora_upos_skipgram_300_5_2018.vec.gz'\n",
    "model = gensim.models.KeyedVectors.load_word2vec_format(m_path, binary=False)"
   ]
  },
  {
   "cell_type": "code",
   "execution_count": 3,
   "metadata": {},
   "outputs": [],
   "source": [
    "# делаем нормализацию\n",
    "model.init_sims(replace=True)"
   ]
  },
  {
   "cell_type": "markdown",
   "metadata": {},
   "source": [
    "Посмотрим, сколько в модели слов:"
   ]
  },
  {
   "cell_type": "code",
   "execution_count": 4,
   "metadata": {},
   "outputs": [
    {
     "data": {
      "text/plain": [
       "195071"
      ]
     },
     "execution_count": 4,
     "metadata": {},
     "output_type": "execute_result"
    }
   ],
   "source": [
    "len(model.vocab)"
   ]
  },
  {
   "cell_type": "markdown",
   "metadata": {},
   "source": [
    "Попросим у модели 5 ближайших соседей для нашего слова и коэффициент косинусной близости для каждого:"
   ]
  },
  {
   "cell_type": "code",
   "execution_count": 11,
   "metadata": {},
   "outputs": [
    {
     "name": "stderr",
     "output_type": "stream",
     "text": [
      "C:\\Users\\user\\Anaconda3\\lib\\site-packages\\gensim\\matutils.py:737: FutureWarning: Conversion of the second argument of issubdtype from `int` to `np.signedinteger` is deprecated. In future, it will be treated as `np.int32 == np.dtype(int).type`.\n",
      "  if np.issubdtype(vec.dtype, np.int):\n"
     ]
    },
    {
     "data": {
      "text/plain": [
       "[('каменья_NOUN', 0.7000336647033691),\n",
       " ('камешек_NOUN', 0.6860172748565674),\n",
       " ('валун_NOUN', 0.6670265197753906),\n",
       " ('глыба_NOUN', 0.6664066314697266),\n",
       " ('камушек_NOUN', 0.6610238552093506)]"
      ]
     },
     "execution_count": 11,
     "metadata": {},
     "output_type": "execute_result"
    }
   ],
   "source": [
    "model.most_similar(positive=['камень_NOUN'], topn=5)"
   ]
  },
  {
   "cell_type": "markdown",
   "metadata": {},
   "source": [
    "Частеречные тэги нужны, поскольку это специфика скачанной модели - она была натренирована на словах, аннотированных их частями речи (и лемматизированных).\n",
    "\n",
    "Проверим, есть ли слово в модели:"
   ]
  },
  {
   "cell_type": "code",
   "execution_count": 12,
   "metadata": {},
   "outputs": [
    {
     "name": "stdout",
     "output_type": "stream",
     "text": [
      "False\n",
      "True\n"
     ]
    }
   ],
   "source": [
    "word1 = 'захардкодить_NOUN'\n",
    "word2 = 'пирожок_NOUN'\n",
    "print(word1 in model)\n",
    "print(word2 in model)"
   ]
  },
  {
   "cell_type": "markdown",
   "metadata": {},
   "source": [
    "Решить пропорцию!"
   ]
  },
  {
   "cell_type": "code",
   "execution_count": 39,
   "metadata": {},
   "outputs": [
    {
     "name": "stdout",
     "output_type": "stream",
     "text": [
      "студент_NOUN\n"
     ]
    },
    {
     "name": "stderr",
     "output_type": "stream",
     "text": [
      "C:\\Users\\user\\Anaconda3\\lib\\site-packages\\gensim\\matutils.py:737: FutureWarning: Conversion of the second argument of issubdtype from `int` to `np.signedinteger` is deprecated. In future, it will be treated as `np.int32 == np.dtype(int).type`.\n",
      "  if np.issubdtype(vec.dtype, np.int):\n"
     ]
    }
   ],
   "source": [
    "print(model.most_similar(positive=['солдат_NOUN', 'университет_NOUN'], negative=['армия_NOUN'])[0][0])"
   ]
  },
  {
   "cell_type": "markdown",
   "metadata": {},
   "source": [
    "Найти лишнее!"
   ]
  },
  {
   "cell_type": "code",
   "execution_count": 44,
   "metadata": {},
   "outputs": [
    {
     "name": "stdout",
     "output_type": "stream",
     "text": [
      "свекла_NOUN\n"
     ]
    },
    {
     "name": "stderr",
     "output_type": "stream",
     "text": [
      "C:\\Users\\user\\Anaconda3\\lib\\site-packages\\gensim\\matutils.py:737: FutureWarning: Conversion of the second argument of issubdtype from `int` to `np.signedinteger` is deprecated. In future, it will be treated as `np.int32 == np.dtype(int).type`.\n",
      "  if np.issubdtype(vec.dtype, np.int):\n"
     ]
    }
   ],
   "source": [
    "print(model.doesnt_match('яблоко_NOUN груша_NOUN виноград_NOUN банан_NOUN лимон_NOUN свекла_NOUN'.split()))"
   ]
  },
  {
   "cell_type": "markdown",
   "metadata": {},
   "source": [
    "## Домашнее задание\n",
    "\n",
    "### Обязательное задание всем\n",
    "\n",
    "Напишите функцию, которая печатает 7 ближайших слов для поданного прилагательного, если оно есть в модели. А если нет -- печатает сообщение \"в модели нет этого слова :(\"\n",
    "\n",
    "Пример:"
   ]
  },
  {
   "cell_type": "code",
   "execution_count": 13,
   "metadata": {},
   "outputs": [
    {
     "ename": "NameError",
     "evalue": "name 'find_seven_similar' is not defined",
     "output_type": "error",
     "traceback": [
      "\u001b[1;31m---------------------------------------------------------------------------\u001b[0m",
      "\u001b[1;31mNameError\u001b[0m                                 Traceback (most recent call last)",
      "\u001b[1;32m<ipython-input-13-44b768fb7a94>\u001b[0m in \u001b[0;36m<module>\u001b[1;34m()\u001b[0m\n\u001b[1;32m----> 1\u001b[1;33m \u001b[0mfind_seven_similar\u001b[0m\u001b[1;33m(\u001b[0m\u001b[1;34m'красивый_ADJ'\u001b[0m\u001b[1;33m)\u001b[0m\u001b[1;33m\u001b[0m\u001b[0m\n\u001b[0m",
      "\u001b[1;31mNameError\u001b[0m: name 'find_seven_similar' is not defined"
     ]
    }
   ],
   "source": [
    "find_seven_similar('красивый_ADJ')"
   ]
  },
  {
   "cell_type": "code",
   "execution_count": 59,
   "metadata": {},
   "outputs": [
    {
     "ename": "NameError",
     "evalue": "name 'find_seven_similar' is not defined",
     "output_type": "error",
     "traceback": [
      "\u001b[1;31m---------------------------------------------------------------------------\u001b[0m",
      "\u001b[1;31mNameError\u001b[0m                                 Traceback (most recent call last)",
      "\u001b[1;32m<ipython-input-59-a6698b047d64>\u001b[0m in \u001b[0;36m<module>\u001b[1;34m()\u001b[0m\n\u001b[1;32m----> 1\u001b[1;33m \u001b[0mfind_seven_similar\u001b[0m\u001b[1;33m(\u001b[0m\u001b[1;34m'улётный_ADJ'\u001b[0m\u001b[1;33m)\u001b[0m\u001b[1;33m\u001b[0m\u001b[0m\n\u001b[0m",
      "\u001b[1;31mNameError\u001b[0m: name 'find_seven_similar' is not defined"
     ]
    }
   ],
   "source": [
    "find_seven_similar('улётный_ADJ')"
   ]
  },
  {
   "cell_type": "code",
   "execution_count": 11,
   "metadata": {},
   "outputs": [
    {
     "name": "stdout",
     "output_type": "stream",
     "text": [
      "белый\n",
      "белоснежный_ADJ\n",
      "желтый_ADJ\n",
      "белый_NOUN\n",
      "серый_ADJ\n",
      "ярко-белый_ADJ\n",
      "черный_ADJ\n",
      "розовый_ADJ\n"
     ]
    },
    {
     "name": "stderr",
     "output_type": "stream",
     "text": [
      "C:\\Users\\user\\Anaconda3\\lib\\site-packages\\gensim\\matutils.py:737: FutureWarning: Conversion of the second argument of issubdtype from `int` to `np.signedinteger` is deprecated. In future, it will be treated as `np.int32 == np.dtype(int).type`.\n",
      "  if np.issubdtype(vec.dtype, np.int):\n"
     ]
    }
   ],
   "source": [
    "# ваш код здесь\n",
    "word = input()\n",
    "if word + '_ADJ' in model:\n",
    "    res = model.most_similar(positive=[word + '_ADJ'], topn=7)\n",
    "    for elems in res:\n",
    "        print(elems[0])\n",
    "else:\n",
    "    print('в модели нет этого слова :(')"
   ]
  },
  {
   "cell_type": "markdown",
   "metadata": {},
   "source": [
    "## Необязательное задание 1\n",
    "(делайте только если у вас время, силы и желание, а если нет - забейте :))\n",
    "\n",
    "Напишите функцию, \n",
    "\n",
    "Пример того, как определять часть речи слова с помощью pymorphy, есть [в семинаре по лемматизации](https://github.com/religofsil/mipt-summer-school/blob/master/3_lemmatization%26hw.ipynb)."
   ]
  },
  {
   "cell_type": "code",
   "execution_count": 6,
   "metadata": {},
   "outputs": [],
   "source": [
    "from pymorphy2  import MorphAnalyzer\n",
    "pymorphy2_analyzer = MorphAnalyzer()"
   ]
  },
  {
   "cell_type": "code",
   "execution_count": 7,
   "metadata": {},
   "outputs": [
    {
     "name": "stdout",
     "output_type": "stream",
     "text": [
      "белый\n",
      "ADJF\n"
     ]
    }
   ],
   "source": [
    "word = pymorphy2_analyzer.parse(input())\n",
    "print(word[0].tag.POS)"
   ]
  },
  {
   "cell_type": "code",
   "execution_count": 4,
   "metadata": {},
   "outputs": [],
   "source": [
    "d = {\n",
    "    'ADJF': 'ADJ',\n",
    "    'ADVB': 'ADV',\n",
    "    'ADJS': 'ADJ',\n",
    "    'NUMR': 'NUM',\n",
    "    'PREP': 'ADP',\n",
    "    'CONJ': 'CCONJ',\n",
    "    'INFN': 'VERB',\n",
    "    'VERB': 'VERB',\n",
    "    'NOUN': 'NOUN'\n",
    "}"
   ]
  },
  {
   "cell_type": "code",
   "execution_count": 48,
   "metadata": {},
   "outputs": [
    {
     "name": "stdout",
     "output_type": "stream",
     "text": [
      "собачка\n",
      "собачка_NOUN\n",
      "собачонка_NOUN\n",
      "собака_NOUN\n",
      "болонка_NOUN\n",
      "кошечка_NOUN\n",
      "песик_NOUN\n",
      "дворняжка_NOUN\n",
      "пудель_NOUN\n"
     ]
    },
    {
     "name": "stderr",
     "output_type": "stream",
     "text": [
      "C:\\Users\\user\\Anaconda3\\lib\\site-packages\\gensim\\matutils.py:737: FutureWarning: Conversion of the second argument of issubdtype from `int` to `np.signedinteger` is deprecated. In future, it will be treated as `np.int32 == np.dtype(int).type`.\n",
      "  if np.issubdtype(vec.dtype, np.int):\n"
     ]
    }
   ],
   "source": [
    "word = pymorphy2_analyzer.parse(input())\n",
    "tag = word[0].tag.POS\n",
    "word = word[0].normal_form\n",
    "\n",
    "\n",
    "if tag == 'ADJF':\n",
    "    tag = tag[:-1]\n",
    "if tag == 'ADVB':\n",
    "    tag = tag[:-1]\n",
    "if tag == 'ADJS':\n",
    "    tag = tag[:-1]\n",
    "if tag == 'NUMR':\n",
    "    tag = tag[:-1]\n",
    "if tag == 'PREP':\n",
    "    tag = 'ADP'\n",
    "if tag == 'CONJ':\n",
    "    tag = 'CCONJ'\n",
    "if tag == 'INFN':\n",
    "    tag = 'VERB'\n",
    "    \n",
    "word += '_' + tag\n",
    "print(word)\n",
    "if word in model:\n",
    "    res = model.most_similar(positive=[word], topn=7)\n",
    "    for elems in res:\n",
    "        print(elems[0])\n",
    "else:\n",
    "    print('в модели нет этого слова :(')"
   ]
  },
  {
   "cell_type": "markdown",
   "metadata": {},
   "source": [
    "## Необязательное задание 2\n",
    "(то же самое)\n",
    "\n",
    "Напишите функцию, которая получает на вход предложение и заменяет часть слов на близкие по значению."
   ]
  },
  {
   "cell_type": "code",
   "execution_count": 63,
   "metadata": {},
   "outputs": [
    {
     "name": "stdout",
     "output_type": "stream",
     "text": [
      "мама мыла раму\n",
      "['мама', 'мыла', 'раму']\n",
      "['мама_PROPN', 'мыло_VERB', 'моторенваген_NOUN']\n"
     ]
    },
    {
     "name": "stderr",
     "output_type": "stream",
     "text": [
      "C:\\Users\\user\\Anaconda3\\lib\\site-packages\\gensim\\matutils.py:737: FutureWarning: Conversion of the second argument of issubdtype from `int` to `np.signedinteger` is deprecated. In future, it will be treated as `np.int32 == np.dtype(int).type`.\n",
      "  if np.issubdtype(vec.dtype, np.int):\n"
     ]
    }
   ],
   "source": [
    "sent = input().split()\n",
    "new_sent = []\n",
    "print(sent)\n",
    "for word in sent:\n",
    "    w = pymorphy2_analyzer.parse(word)\n",
    "    if w[0].tag.POS == 'ADJF':\n",
    "        res = model.most_similar(positive=[w[0].normal_form + '_ADJ'], topn=1)\n",
    "    else:\n",
    "        res = model.most_similar(positive=[w[0].normal_form + '_' + w[0].tag.POS], topn=1)\n",
    "    for elems in res:\n",
    "        new_sent.append(elems[0])\n",
    "print(new_sent)"
   ]
  },
  {
   "cell_type": "code",
   "execution_count": 64,
   "metadata": {},
   "outputs": [
    {
     "name": "stdout",
     "output_type": "stream",
     "text": [
      "мама мыла раму\n",
      "['мама', 'мыла', 'раму']\n"
     ]
    },
    {
     "ename": "AttributeError",
     "evalue": "'str' object has no attribute 'tag'",
     "output_type": "error",
     "traceback": [
      "\u001b[1;31m---------------------------------------------------------------------------\u001b[0m",
      "\u001b[1;31mAttributeError\u001b[0m                            Traceback (most recent call last)",
      "\u001b[1;32m<ipython-input-64-cc92a7126145>\u001b[0m in \u001b[0;36m<module>\u001b[1;34m()\u001b[0m\n\u001b[0;32m     22\u001b[0m \u001b[1;32mfor\u001b[0m \u001b[0mword\u001b[0m \u001b[1;32min\u001b[0m \u001b[0msent\u001b[0m\u001b[1;33m:\u001b[0m\u001b[1;33m\u001b[0m\u001b[0m\n\u001b[0;32m     23\u001b[0m     \u001b[0mw\u001b[0m \u001b[1;33m=\u001b[0m \u001b[0mpymorphy2_analyzer\u001b[0m\u001b[1;33m.\u001b[0m\u001b[0mparse\u001b[0m\u001b[1;33m(\u001b[0m\u001b[0mword\u001b[0m\u001b[1;33m)\u001b[0m\u001b[1;33m\u001b[0m\u001b[0m\n\u001b[1;32m---> 24\u001b[1;33m     \u001b[0mtag\u001b[0m \u001b[1;33m=\u001b[0m \u001b[0mword\u001b[0m\u001b[1;33m[\u001b[0m\u001b[1;36m0\u001b[0m\u001b[1;33m]\u001b[0m\u001b[1;33m.\u001b[0m\u001b[0mtag\u001b[0m\u001b[1;33m.\u001b[0m\u001b[0mPOS\u001b[0m\u001b[1;33m\u001b[0m\u001b[0m\n\u001b[0m\u001b[0;32m     25\u001b[0m     \u001b[0mtagging\u001b[0m\u001b[1;33m(\u001b[0m\u001b[0mtag\u001b[0m\u001b[1;33m)\u001b[0m\u001b[1;33m\u001b[0m\u001b[0m\n\u001b[0;32m     26\u001b[0m     \u001b[0mres\u001b[0m \u001b[1;33m=\u001b[0m \u001b[0mmodel\u001b[0m\u001b[1;33m.\u001b[0m\u001b[0mmost_similar\u001b[0m\u001b[1;33m(\u001b[0m\u001b[0mpositive\u001b[0m\u001b[1;33m=\u001b[0m\u001b[1;33m[\u001b[0m\u001b[0mw\u001b[0m\u001b[1;33m[\u001b[0m\u001b[1;36m0\u001b[0m\u001b[1;33m]\u001b[0m\u001b[1;33m.\u001b[0m\u001b[0mnormal_form\u001b[0m \u001b[1;33m+\u001b[0m \u001b[1;34m'_'\u001b[0m \u001b[1;33m+\u001b[0m \u001b[0mtag\u001b[0m\u001b[1;33m]\u001b[0m\u001b[1;33m,\u001b[0m \u001b[0mtopn\u001b[0m\u001b[1;33m=\u001b[0m\u001b[1;36m1\u001b[0m\u001b[1;33m)\u001b[0m\u001b[1;33m\u001b[0m\u001b[0m\n",
      "\u001b[1;31mAttributeError\u001b[0m: 'str' object has no attribute 'tag'"
     ]
    }
   ],
   "source": [
    "#вот это недоработанная версия\n",
    "\n",
    "\n",
    "sent = input().split()\n",
    "new_sent = []\n",
    "print(sent)\n",
    "\n",
    "def tagging(tag):\n",
    "    if tag == 'ADJF':\n",
    "        tag = tag[:-1]\n",
    "    if tag == 'ADVB':\n",
    "        tag = tag[:-1]\n",
    "    if tag == 'ADJS':\n",
    "        tag = tag[:-1]\n",
    "    if tag == 'NUMR':\n",
    "        tag = tag[:-1]\n",
    "    if tag == 'PREP':\n",
    "        tag = 'ADP'\n",
    "    if tag == 'CONJ':\n",
    "        tag = 'CCONJ'\n",
    "    if tag == 'INFN':\n",
    "        tag = 'VERB'\n",
    "    return tag\n",
    "\n",
    "for word in sent:\n",
    "    w = pymorphy2_analyzer.parse(word)\n",
    "    tag = word[0].tag.POS\n",
    "    tagging(tag)\n",
    "    res = model.most_similar(positive=[w[0].normal_form + '_' + tag], topn=1)\n",
    "    for elems in res:\n",
    "        new_sent.append(elems[0])\n",
    "print(new_sent)\n",
    "new1_sent = []\n",
    "for elem in new_sent:\n",
    "    new1_sent.append(elem[:-4])\n",
    "print(new1_sent)\n",
    "\n",
    "#вывести строчкой, убрать назв. части речи\n",
    "#не работают местоимения, наречия, слово \"черный\", \"родить\", предлоги"
   ]
  }
 ],
 "metadata": {
  "kernelspec": {
   "display_name": "Python 3",
   "language": "python",
   "name": "python3"
  },
  "language_info": {
   "codemirror_mode": {
    "name": "ipython",
    "version": 3
   },
   "file_extension": ".py",
   "mimetype": "text/x-python",
   "name": "python",
   "nbconvert_exporter": "python",
   "pygments_lexer": "ipython3",
   "version": "3.6.5"
  }
 },
 "nbformat": 4,
 "nbformat_minor": 2
}
