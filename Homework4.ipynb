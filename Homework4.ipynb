{
 "cells": [
  {
   "cell_type": "markdown",
   "metadata": {},
   "source": [
    "http://pythontutor.ru/lessons/functions/problems/length_of_segment/\n",
    "\n",
    "Даны четыре действительных числа: `x1`, `y1`, `x2`, `y2`. Напишите функцию `distance(x1, y1, x2, y2)`, вычисляющая расстояние между точкой `(x1,y1)` и `(x2,y2)`. Считайте четыре действительных числа и выведите результат работы этой функции."
   ]
  },
  {
   "cell_type": "markdown",
   "metadata": {},
   "source": [
    "http://pythontutor.ru/lessons/functions/problems/capitalize/\n",
    "    \n",
    "Напишите функцию capitalize(), которая принимает слово из маленьких латинских букв и возвращает его же, меняя первую букву на большую.\n",
    "Например, print(capitalize('word')) должно печатать слово Word.\n",
    "\n",
    "На вход подаётся строка, состоящая из слов, разделённых одним пробелом. Слова состоят из маленьких латинских букв. Напечатайте исходную строку, сделав так, чтобы каждое слово начиналось с большой буквы. При этом используйте вашу функцию capitalize().\n",
    "\n",
    "**метод title использовать нельзя**\n",
    "\n",
    "напоминаю, что у строки есть метод `upper`\n",
    "\n",
    "попробуйте решить эту задачу используя `map`"
   ]
  },
  {
   "cell_type": "markdown",
   "metadata": {},
   "source": [
    "1. Напишите свою реализацию `map` -- `list_map(func, arr)`\n",
    "\n",
    "    она принимает на вход функцию и список и возвращает новый список с примененной функцией\n",
    "\n",
    "    **сам map использовать нельзя**\n",
    "\n",
    "    отличие от `map` будет состоять в том что вычисления не ленивые (как сделать функцию ленивой мы изучим позже)\n"
   ]
  },
  {
   "cell_type": "markdown",
   "metadata": {},
   "source": [
    "2. Аналогично для `list_filter`"
   ]
  },
  {
   "cell_type": "markdown",
   "metadata": {},
   "source": [
    "ниже приведены тесты для ваших задач, они должны выполняться без `AssertionError`"
   ]
  },
  {
   "cell_type": "code",
   "execution_count": 3,
   "metadata": {},
   "outputs": [],
   "source": [
    "def list_map(func, arr):\n",
    "    new_arr = []\n",
    "    for elem in arr:\n",
    "        elem = func(elem)\n",
    "        new_arr.append(elem)\n",
    "    return new_arr"
   ]
  },
  {
   "cell_type": "code",
   "execution_count": 8,
   "metadata": {},
   "outputs": [],
   "source": [
    "assert list_map(int, ['1', '2', '3']) == [1, 2, 3]\n",
    "assert list_map(lambda x: x ** 2, [1, 2, 3, 4]) == [1, 4, 9, 16]\n",
    "assert list_map(lambda x: x, []) == []"
   ]
  },
  {
   "cell_type": "code",
   "execution_count": 35,
   "metadata": {},
   "outputs": [],
   "source": [
    "def list_filter(func, arr):\n",
    "    new_arr = []\n",
    "    for elem in arr:\n",
    "        if func(elem) is True:\n",
    "            new_arr.append(elem)\n",
    "    return new_arr"
   ]
  },
  {
   "cell_type": "code",
   "execution_count": 32,
   "metadata": {},
   "outputs": [],
   "source": [
    "assert list_filter(lambda x: x > 0, [-1, 2, -2, 0]) == [2]\n",
    "assert list_filter(lambda s: 1 in s, [{1, 2, 3}, [1, 2, 3], (3, 4, 5)]) == [{1, 2, 3}, [1, 2, 3]]\n",
    "assert list_filter(lambda x: True, [1, 2, 3, 4, -1, -2, -3]) == [1, 2, 3, 4, -1, -2, -3]\n",
    "assert list_filter(lambda x: False, [1, 2, 3, 4]) == []\n",
    "assert list_filter(lambda x: True, []) == []"
   ]
  },
  {
   "cell_type": "markdown",
   "metadata": {},
   "source": [
    "(**) очень сложная задача\n",
    "\n",
    "напишите свою реализацию `list_reduce(f, arr)`\n",
    "\n",
    "reduce (по-русски свертка) работает так:\n",
    "\n",
    "`f(...f(f(f(arr[0], arr[1]), arr[2]), arr[3])...arr[-1])`\n",
    "\n",
    "и возвращет одно значение (не список)\n",
    "\n",
    "например, если `f` это сложение двух элементов, то на выходе получаем сумму списка `arr`\n",
    "\n",
    "ниже приведен пример того, как работает встроенный `reduce`\n",
    "\n",
    "эту функцию можно реализовать как рекурсивно, так и при помощи цикла"
   ]
  },
  {
   "cell_type": "code",
   "execution_count": 39,
   "metadata": {},
   "outputs": [
    {
     "name": "stdout",
     "output_type": "stream",
     "text": [
      "15\n",
      "120\n",
      "aa bb cc dd\n"
     ]
    }
   ],
   "source": [
    "from functools import reduce\n",
    "\n",
    "print(reduce(lambda x, y: x + y, [1, 2, 3, 4, 5]))  # делает то же самое что и sum\n",
    "print(reduce(lambda x, y: x * y, [1, 2, 3, 4, 5]))  # произведение всех чисел\n",
    "print(reduce(lambda x, y: x + ' ' + y, ['aa', 'bb', 'cc', 'dd']))  # конкатенация строк через пробел"
   ]
  },
  {
   "cell_type": "code",
   "execution_count": 69,
   "metadata": {},
   "outputs": [],
   "source": [
    "#цикл\n",
    "\n",
    "def list_reduce(f, arr):\n",
    "    if len(arr) > 1:\n",
    "        res = f(arr[0], arr[1])\n",
    "        i = 1\n",
    "        while i < len(arr)-1:\n",
    "            res = f(res, arr[i+1])\n",
    "            i += 1\n",
    "    else:\n",
    "         res = arr[0]\n",
    "    return res"
   ]
  },
  {
   "cell_type": "code",
   "execution_count": 143,
   "metadata": {},
   "outputs": [],
   "source": [
    "#рекурсия\n",
    "def list_reduce(f, arr):\n",
    "    if len(arr) == 1:\n",
    "        return arr[0]\n",
    "    else:\n",
    "        if len(arr) == 2:\n",
    "            return f(arr[0], arr[1])\n",
    "        return f(arr[0], list_reduce(f, arr[1:]))"
   ]
  },
  {
   "cell_type": "code",
   "execution_count": 144,
   "metadata": {
    "scrolled": true
   },
   "outputs": [
    {
     "name": "stdout",
     "output_type": "stream",
     "text": [
      "15\n",
      "120\n",
      "aa bb cc dd\n",
      "1\n"
     ]
    }
   ],
   "source": [
    "print(list_reduce(lambda x, y: x + y, [1, 2, 3, 4, 5]))\n",
    "print(list_reduce(lambda x, y: x * y, [1, 2, 3, 4, 5]))\n",
    "print(list_reduce(lambda x, y: x + ' ' + y, ['aa', 'bb', 'cc', 'dd']))\n",
    "print(list_reduce(lambda x, y: x + y, [1]))"
   ]
  },
  {
   "cell_type": "code",
   "execution_count": 145,
   "metadata": {},
   "outputs": [],
   "source": [
    "assert list_reduce(lambda x, y: x + y, [1, 2, 3, 4, 5]) == 15\n",
    "assert list_reduce(lambda x, y: x * y, [1, 2, 3, 4, 5]) == 120\n",
    "assert list_reduce(lambda x, y: x + ' ' + y, ['aa', 'bb', 'cc', 'dd']) == 'aa bb cc dd'\n",
    "assert list_reduce(lambda x, y: x + y, [1]) == 1"
   ]
  }
 ],
 "metadata": {
  "kernelspec": {
   "display_name": "Python 3",
   "language": "python",
   "name": "python3"
  },
  "language_info": {
   "codemirror_mode": {
    "name": "ipython",
    "version": 3
   },
   "file_extension": ".py",
   "mimetype": "text/x-python",
   "name": "python",
   "nbconvert_exporter": "python",
   "pygments_lexer": "ipython3",
   "version": "3.6.5"
  }
 },
 "nbformat": 4,
 "nbformat_minor": 2
}
