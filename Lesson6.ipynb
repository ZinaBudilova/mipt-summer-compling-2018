{
 "cells": [
  {
   "cell_type": "markdown",
   "metadata": {},
   "source": [
    "# Регулярные выражения"
   ]
  },
  {
   "cell_type": "markdown",
   "metadata": {},
   "source": [
    "![](l1z19s49sk5bpc8vkmcbho7zgro.jpeg)"
   ]
  },
  {
   "cell_type": "code",
   "execution_count": 2,
   "metadata": {},
   "outputs": [],
   "source": [
    "import re"
   ]
  },
  {
   "cell_type": "code",
   "execution_count": 3,
   "metadata": {},
   "outputs": [
    {
     "data": {
      "text/plain": [
       "['a']"
      ]
     },
     "execution_count": 3,
     "metadata": {},
     "output_type": "execute_result"
    }
   ],
   "source": [
    "re.findall(r'a', 'a')"
   ]
  },
  {
   "cell_type": "code",
   "execution_count": 4,
   "metadata": {},
   "outputs": [
    {
     "data": {
      "text/plain": [
       "['a', 'a']"
      ]
     },
     "execution_count": 4,
     "metadata": {},
     "output_type": "execute_result"
    }
   ],
   "source": [
    "re.findall(r'a', 'aa')"
   ]
  },
  {
   "cell_type": "code",
   "execution_count": 5,
   "metadata": {},
   "outputs": [
    {
     "data": {
      "text/plain": [
       "['hello', 'hello', 'hello']"
      ]
     },
     "execution_count": 5,
     "metadata": {},
     "output_type": "execute_result"
    }
   ],
   "source": [
    "re.findall(r'hello', \"hello hello hello\")"
   ]
  },
  {
   "cell_type": "code",
   "execution_count": 6,
   "metadata": {},
   "outputs": [
    {
     "data": {
      "text/plain": [
       "['hello', 'hello', 'hello']"
      ]
     },
     "execution_count": 6,
     "metadata": {},
     "output_type": "execute_result"
    }
   ],
   "source": [
    "re.findall(r'hello', \"hello hello hello\")"
   ]
  },
  {
   "cell_type": "markdown",
   "metadata": {},
   "source": [
    "`*` означает повторение группы или символа сколко угодно раз"
   ]
  },
  {
   "cell_type": "code",
   "execution_count": 19,
   "metadata": {},
   "outputs": [
    {
     "data": {
      "text/plain": [
       "['hello hello hello ho ho']"
      ]
     },
     "execution_count": 19,
     "metadata": {},
     "output_type": "execute_result"
    }
   ],
   "source": [
    "re.findall(r'h.*o', \"hello hello hello ho hol\")"
   ]
  },
  {
   "cell_type": "code",
   "execution_count": 20,
   "metadata": {},
   "outputs": [
    {
     "data": {
      "text/plain": [
       "['ae', 'adce']"
      ]
     },
     "execution_count": 20,
     "metadata": {},
     "output_type": "execute_result"
    }
   ],
   "source": [
    "re.findall(r'a[bcd]*e', 'abaeadce')"
   ]
  },
  {
   "cell_type": "code",
   "execution_count": 12,
   "metadata": {
    "scrolled": true
   },
   "outputs": [
    {
     "data": {
      "text/plain": [
       "['abcbdcb']"
      ]
     },
     "execution_count": 12,
     "metadata": {},
     "output_type": "execute_result"
    }
   ],
   "source": [
    "re.findall(r'a[bcd]*b', 'abcbdcbde')"
   ]
  },
  {
   "cell_type": "markdown",
   "metadata": {},
   "source": [
    "`+` - 1 или больше\n",
    "\n",
    "`?` - 0 или 1\n",
    "\n",
    "`.` - любой символ\n",
    "\n",
    "`[..]` - любой из символов внутри\n",
    "\n",
    "`[^..]` - любой не из символов внутри\n",
    "\n",
    "`\\d` = `[0-9]`\n",
    "\n",
    "`\\s` - все пробельные символы\n",
    "\n",
    "`\\w` - алфавитные символы\n",
    "\n",
    "`\\b` - граница слова\n",
    "\n",
    "`^, $` - начало и конец строки\n",
    "\n",
    "`{n}` - ровно n раз"
   ]
  },
  {
   "cell_type": "code",
   "execution_count": 23,
   "metadata": {
    "scrolled": true
   },
   "outputs": [
    {
     "data": {
      "text/plain": [
       "['12345', '12347']"
      ]
     },
     "execution_count": 23,
     "metadata": {},
     "output_type": "execute_result"
    }
   ],
   "source": [
    "re.findall(r'\\d{5}', '12345123477')"
   ]
  },
  {
   "cell_type": "code",
   "execution_count": 28,
   "metadata": {},
   "outputs": [
    {
     "data": {
      "text/plain": [
       "['11/02/1992']"
      ]
     },
     "execution_count": 28,
     "metadata": {},
     "output_type": "execute_result"
    }
   ],
   "source": [
    "re.findall(r'\\d\\d/\\d\\d/\\d{4}', '11/02/1992')"
   ]
  },
  {
   "cell_type": "code",
   "execution_count": 35,
   "metadata": {},
   "outputs": [
    {
     "data": {
      "text/plain": [
       "['aaa', 'aaa', 'bbb', 'ccc', 'ads', 'aaa', 'aaa']"
      ]
     },
     "execution_count": 35,
     "metadata": {},
     "output_type": "execute_result"
    }
   ],
   "source": [
    "re.findall(r'\\w{3}', 'a aa aaa aa aaa bbb bb cccc ads aaaaaa')"
   ]
  },
  {
   "cell_type": "code",
   "execution_count": 55,
   "metadata": {},
   "outputs": [
    {
     "data": {
      "text/plain": [
       "['124']"
      ]
     },
     "execution_count": 55,
     "metadata": {},
     "output_type": "execute_result"
    }
   ],
   "source": [
    "re.findall(r'\\d{1,3}', '124')"
   ]
  },
  {
   "cell_type": "code",
   "execution_count": 34,
   "metadata": {},
   "outputs": [
    {
     "data": {
      "text/plain": [
       "['aaa', 'aaa', 'bbb', 'ads']"
      ]
     },
     "execution_count": 34,
     "metadata": {},
     "output_type": "execute_result"
    }
   ],
   "source": [
    "re.findall(r'\\b\\w{3}\\b', 'a aa aaa aa aaa bbb bb cccc ads aaaaaa')"
   ]
  },
  {
   "cell_type": "code",
   "execution_count": 41,
   "metadata": {},
   "outputs": [
    {
     "data": {
      "text/plain": [
       "['1', '2', '-1', '+2456', '228', '-123', '8', '-800', '-555', '-35', '-35']"
      ]
     },
     "execution_count": 41,
     "metadata": {},
     "output_type": "execute_result"
    }
   ],
   "source": [
    "re.findall(r'[-+]?\\d+', '1 2 -1 +2456 228-123 8-800-555-35-35  ---')"
   ]
  },
  {
   "cell_type": "code",
   "execution_count": 45,
   "metadata": {},
   "outputs": [
    {
     "data": {
      "text/plain": [
       "['3', '2', '4', '1', '2', '5']"
      ]
     },
     "execution_count": 45,
     "metadata": {},
     "output_type": "execute_result"
    }
   ],
   "source": [
    "re.findall(r'[1-5]', '326412005')"
   ]
  },
  {
   "cell_type": "code",
   "execution_count": 47,
   "metadata": {},
   "outputs": [
    {
     "data": {
      "text/plain": [
       "['15', '24']"
      ]
     },
     "execution_count": 47,
     "metadata": {},
     "output_type": "execute_result"
    }
   ],
   "source": [
    "re.findall(r'15|24', '15 24 1 5 2 4')"
   ]
  },
  {
   "cell_type": "code",
   "execution_count": 48,
   "metadata": {},
   "outputs": [
    {
     "data": {
      "text/plain": [
       "['123']"
      ]
     },
     "execution_count": 48,
     "metadata": {},
     "output_type": "execute_result"
    }
   ],
   "source": [
    "re.findall(r'^.{2}\\d', '123423')"
   ]
  },
  {
   "cell_type": "markdown",
   "metadata": {},
   "source": [
    "Переходите сюда и пробуйте решать следующие задачи\n",
    "\n",
    "https://regex101.com/r/aGn8QC/2\n",
    "\n",
    "Найдите все натуральные числа (возможно, окружённые буквами);\n",
    "\n",
    "Найдите все «слова», написанные капсом (то есть строго заглавными), возможно внутри настоящих слов (аааБББввв);\n",
    "\n",
    "Найдите слова, в которых есть русская буква, а когда-нибудь за ней цифра;\n",
    "\n",
    "Найдите все слова, начинающиеся с русской или латинской большой буквы (\\b — граница слова);\n",
    "\n",
    "Найдите слова, которые начинаются на гласную (\\b — граница слова);;\n",
    "\n",
    "Найдите все натуральные числа, не находящиеся внутри или на границе слова;\n",
    "\n",
    "Найдите строчки, в которых есть символ * (. — это точно не конец строки!);\n",
    "\n",
    "Найдите строчки, в которых есть открывающая и когда-нибудь потом закрывающая скобки;\n",
    "\n",
    "Выделите одним махом весь кусок оглавления (в конце примера, вместе с тегами);\n",
    "\n",
    "Выделите одним махом только текстовую часть оглавления, без тегов;\n",
    "\n",
    "Найдите пустые строчки;"
   ]
  },
  {
   "cell_type": "code",
   "execution_count": 43,
   "metadata": {},
   "outputs": [],
   "source": [
    "import re\n",
    "from random import randint"
   ]
  },
  {
   "cell_type": "code",
   "execution_count": 39,
   "metadata": {},
   "outputs": [],
   "source": [
    "def test3(r):\n",
    "    assert not re.fullmatch(r, '')\n",
    "    assert not re.fullmatch(r, '...')\n",
    "    assert not re.fullmatch(r, '.1.1.1')  \n",
    "    assert not re.fullmatch(r, '1+1+1+1') # match возвращает либо None либо результат\n",
    "    assert re.fullmatch(r, '1.1.1.1')     # при приведении к bool None превратится в False а любой результат в True\n",
    "    for a, b, c, d in [(randint(0, 2000), randint(0, 2000), randint(0, 2000), randint(0, 2000)) for _ in range(2000)]:\n",
    "        ip = '.'.join(str(x) for x in (a, b, c, d))\n",
    "        if all(x < 256 for x in (a, b, c, d)):\n",
    "            assert re.fullmatch(r, ip), ip\n",
    "        else:\n",
    "            assert not re.fullmatch(r, ip), ip\n",
    "    print(\"Everything is ok\")"
   ]
  },
  {
   "cell_type": "code",
   "execution_count": 44,
   "metadata": {},
   "outputs": [
    {
     "name": "stdout",
     "output_type": "stream",
     "text": [
      "Everything is ok\n"
     ]
    }
   ],
   "source": [
    "test3(r'\\b((\\d{1,2}|1\\d{2}|2[0-4][0-9]|25[0-5])\\.){3}(\\d{1,2}|1\\d{2}|2[0-4][0-9]|25[0-5])\\b')"
   ]
  }
 ],
 "metadata": {
  "kernelspec": {
   "display_name": "Python 3",
   "language": "python",
   "name": "python3"
  },
  "language_info": {
   "codemirror_mode": {
    "name": "ipython",
    "version": 3
   },
   "file_extension": ".py",
   "mimetype": "text/x-python",
   "name": "python",
   "nbconvert_exporter": "python",
   "pygments_lexer": "ipython3",
   "version": "3.6.5"
  }
 },
 "nbformat": 4,
 "nbformat_minor": 2
}
