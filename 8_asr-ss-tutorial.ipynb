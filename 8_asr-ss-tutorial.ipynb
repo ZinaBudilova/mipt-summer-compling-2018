{
 "cells": [
  {
   "cell_type": "markdown",
   "metadata": {},
   "source": [
    "## Распознавание речи"
   ]
  },
  {
   "cell_type": "markdown",
   "metadata": {},
   "source": [
    "Ипортируем все необходимые пакеты"
   ]
  },
  {
   "cell_type": "code",
   "execution_count": 1,
   "metadata": {},
   "outputs": [],
   "source": [
    "# библиотека для распознавания речи\n",
    "import speech_recognition as sr"
   ]
  },
  {
   "cell_type": "code",
   "execution_count": 2,
   "metadata": {},
   "outputs": [],
   "source": [
    "# библиотека для использования микрофона компьютера\n",
    "import pyaudio"
   ]
  },
  {
   "cell_type": "markdown",
   "metadata": {},
   "source": [
    "**Linux**:\n",
    "\n",
    "```sudo apt-get install python-dev```  \n",
    "```sudo apt-get install portaudio19-dev```  \n",
    "```sudo pip3 install pyaudio```  \n",
    "\n",
    "или какой-нибудь способ из перечисленных [здесь](https://www.raspberrypi.org/forums/viewtopic.php?t=25173 \"форум\") \n",
    "\n",
    "**Windows**:\n",
    "\n",
    "```pip install pyaudio```"
   ]
  },
  {
   "cell_type": "markdown",
   "metadata": {},
   "source": [
    "проверим, работает ли, запустив в командной строке  \n",
    "```python -m speech_recognition```"
   ]
  },
  {
   "cell_type": "code",
   "execution_count": 3,
   "metadata": {},
   "outputs": [
    {
     "name": "stdout",
     "output_type": "stream",
     "text": [
      "pygame 1.9.4\n",
      "Hello from the pygame community. https://www.pygame.org/contribute.html\n"
     ]
    }
   ],
   "source": [
    "# воспроизведение речи\n",
    "from pygame import mixer\n",
    "mixer.init()"
   ]
  },
  {
   "cell_type": "code",
   "execution_count": 4,
   "metadata": {},
   "outputs": [
    {
     "data": {
      "text/plain": [
       "'3.8.1'"
      ]
     },
     "execution_count": 4,
     "metadata": {},
     "output_type": "execute_result"
    }
   ],
   "source": [
    "sr.__version__"
   ]
  },
  {
   "cell_type": "code",
   "execution_count": 5,
   "metadata": {},
   "outputs": [],
   "source": [
    "r = sr.Recognizer()"
   ]
  },
  {
   "cell_type": "code",
   "execution_count": 8,
   "metadata": {},
   "outputs": [],
   "source": [
    "count = sr.AudioFile('1_2_3.wav')\n",
    "with count as source:\n",
    "    audio = r.record(source)"
   ]
  },
  {
   "cell_type": "code",
   "execution_count": 8,
   "metadata": {},
   "outputs": [
    {
     "data": {
      "text/plain": [
       "'раз два три'"
      ]
     },
     "execution_count": 8,
     "metadata": {},
     "output_type": "execute_result"
    }
   ],
   "source": [
    "r.recognize_google(audio, language=\"ru_RU\", show_all=False)"
   ]
  },
  {
   "cell_type": "code",
   "execution_count": 10,
   "metadata": {},
   "outputs": [],
   "source": [
    "mic = sr.Microphone()"
   ]
  },
  {
   "cell_type": "code",
   "execution_count": 11,
   "metadata": {},
   "outputs": [],
   "source": [
    "with mic as source:\n",
    "    r.adjust_for_ambient_noise(source)\n",
    "    audio = r.listen(source)"
   ]
  },
  {
   "cell_type": "code",
   "execution_count": 17,
   "metadata": {},
   "outputs": [
    {
     "data": {
      "text/plain": [
       "['раз', 'два', 'три']"
      ]
     },
     "execution_count": 17,
     "metadata": {},
     "output_type": "execute_result"
    }
   ],
   "source": [
    "r.recognize_google(audio, language=\"ru_RU\", show_all=True)['alternative'][0]['transcript']"
   ]
  },
  {
   "cell_type": "markdown",
   "metadata": {},
   "source": [
    "## Синтез речи"
   ]
  },
  {
   "cell_type": "code",
   "execution_count": 76,
   "metadata": {},
   "outputs": [],
   "source": [
    "from gtts import gTTS\n",
    "import os"
   ]
  },
  {
   "cell_type": "code",
   "execution_count": 78,
   "metadata": {},
   "outputs": [],
   "source": [
    "tts = gTTS(text='аааааа', lang=\"ru\")\n",
    "tts.save('audio.mp3')"
   ]
  },
  {
   "cell_type": "code",
   "execution_count": 17,
   "metadata": {},
   "outputs": [],
   "source": [
    "mixer.music.load('audio2.mp3')\n",
    "mixer.music.play()"
   ]
  },
  {
   "cell_type": "markdown",
   "metadata": {},
   "source": [
    "## Домашняя работа\n",
    "написать функцию, которой на вход дается предложение, которые вы наговариваете компьютеру, оно распознается и все слова в нем меняются на синонимы (используйте знания, полученные на [этом занятии](https://www.raspberrypi.org/forums/viewtopic.php?t=25173 \"word2vec\") ) и на выходе это новое предложение произносится."
   ]
  },
  {
   "cell_type": "code",
   "execution_count": 6,
   "metadata": {},
   "outputs": [
    {
     "name": "stderr",
     "output_type": "stream",
     "text": [
      "C:\\Users\\user\\Anaconda3\\lib\\site-packages\\gensim\\utils.py:1209: UserWarning: detected Windows; aliasing chunkize to chunkize_serial\n",
      "  warnings.warn(\"detected Windows; aliasing chunkize to chunkize_serial\")\n"
     ]
    }
   ],
   "source": [
    "import gensim\n",
    "from pymorphy2  import MorphAnalyzer\n",
    "pymorphy2_analyzer = MorphAnalyzer()\n",
    "from nltk.tokenize import word_tokenize"
   ]
  },
  {
   "cell_type": "code",
   "execution_count": 18,
   "metadata": {},
   "outputs": [],
   "source": [
    "m_path = 'ruscorpora_upos_skipgram_300_5_2018.vec.gz'\n",
    "model = gensim.models.KeyedVectors.load_word2vec_format(m_path, binary=False)"
   ]
  },
  {
   "cell_type": "code",
   "execution_count": 19,
   "metadata": {},
   "outputs": [],
   "source": [
    "model.init_sims(replace=True)"
   ]
  },
  {
   "cell_type": "code",
   "execution_count": 66,
   "metadata": {},
   "outputs": [],
   "source": [
    "def counter():\n",
    "    i = 0\n",
    "    while True:\n",
    "        yield i\n",
    "        i += 1"
   ]
  },
  {
   "cell_type": "code",
   "execution_count": 82,
   "metadata": {},
   "outputs": [],
   "source": [
    "cou = counter()"
   ]
  },
  {
   "cell_type": "code",
   "execution_count": 20,
   "metadata": {},
   "outputs": [],
   "source": [
    "mic = sr.Microphone()"
   ]
  },
  {
   "cell_type": "code",
   "execution_count": 23,
   "metadata": {},
   "outputs": [],
   "source": [
    "with mic as source:\n",
    "    r.adjust_for_ambient_noise(source)\n",
    "    audio = r.listen(source)"
   ]
  },
  {
   "cell_type": "code",
   "execution_count": 24,
   "metadata": {},
   "outputs": [
    {
     "data": {
      "text/plain": [
       "'клёвый день иду пишу как по лыжне'"
      ]
     },
     "execution_count": 24,
     "metadata": {},
     "output_type": "execute_result"
    }
   ],
   "source": [
    "record = r.recognize_google(audio, language=\"ru_RU\", show_all=True)['alternative'][0]['transcript']\n",
    "record"
   ]
  },
  {
   "cell_type": "code",
   "execution_count": 275,
   "metadata": {},
   "outputs": [
    {
     "name": "stdout",
     "output_type": "stream",
     "text": [
      "три грустных друга идут\n"
     ]
    }
   ],
   "source": [
    "record = input()"
   ]
  },
  {
   "cell_type": "code",
   "execution_count": 276,
   "metadata": {},
   "outputs": [
    {
     "data": {
      "text/plain": [
       "['три', 'грустных', 'друга', 'идут']"
      ]
     },
     "execution_count": 276,
     "metadata": {},
     "output_type": "execute_result"
    }
   ],
   "source": [
    "sent = word_tokenize(record)\n",
    "sent"
   ]
  },
  {
   "cell_type": "code",
   "execution_count": 359,
   "metadata": {},
   "outputs": [
    {
     "name": "stdout",
     "output_type": "stream",
     "text": [
      "['NUMR inan', 'accs']\n",
      "нет в модели\n",
      "\n",
      "['ADJF', 'Qual plur', 'gent']\n",
      "есть в модели\n"
     ]
    },
    {
     "name": "stderr",
     "output_type": "stream",
     "text": [
      "C:\\Users\\user\\Anaconda3\\lib\\site-packages\\gensim\\matutils.py:737: FutureWarning: Conversion of the second argument of issubdtype from `int` to `np.signedinteger` is deprecated. In future, it will be treated as `np.int32 == np.dtype(int).type`.\n",
      "  if np.issubdtype(vec.dtype, np.int):\n"
     ]
    },
    {
     "ename": "ValueError",
     "evalue": "Unknown grammeme: Qual plur",
     "output_type": "error",
     "traceback": [
      "\u001b[1;31m---------------------------------------------------------------------------\u001b[0m",
      "\u001b[1;31mValueError\u001b[0m                                Traceback (most recent call last)",
      "\u001b[1;32m<ipython-input-359-21687e428866>\u001b[0m in \u001b[0;36m<module>\u001b[1;34m()\u001b[0m\n\u001b[0;32m     30\u001b[0m                     \u001b[1;32mfor\u001b[0m \u001b[0mtag\u001b[0m \u001b[1;32min\u001b[0m \u001b[0mtags\u001b[0m\u001b[1;33m:\u001b[0m\u001b[1;33m\u001b[0m\u001b[0m\n\u001b[0;32m     31\u001b[0m                         \u001b[0manalyz_slovo\u001b[0m \u001b[1;33m=\u001b[0m \u001b[0mpymorphy2_analyzer\u001b[0m\u001b[1;33m.\u001b[0m\u001b[0mparse\u001b[0m\u001b[1;33m(\u001b[0m\u001b[0mslovo\u001b[0m\u001b[1;33m)\u001b[0m\u001b[1;33m\u001b[0m\u001b[0m\n\u001b[1;32m---> 32\u001b[1;33m                         \u001b[0mslovo_flec\u001b[0m \u001b[1;33m=\u001b[0m \u001b[0manalyz_slovo\u001b[0m\u001b[1;33m[\u001b[0m\u001b[1;36m0\u001b[0m\u001b[1;33m]\u001b[0m\u001b[1;33m.\u001b[0m\u001b[0minflect\u001b[0m\u001b[1;33m(\u001b[0m\u001b[1;33m{\u001b[0m\u001b[0mtag\u001b[0m\u001b[1;33m}\u001b[0m\u001b[1;33m)\u001b[0m\u001b[1;33m\u001b[0m\u001b[0m\n\u001b[0m\u001b[0;32m     33\u001b[0m                         \u001b[0mslovo\u001b[0m \u001b[1;33m=\u001b[0m \u001b[0mslovo_flec\u001b[0m\u001b[1;33m[\u001b[0m\u001b[1;36m0\u001b[0m\u001b[1;33m]\u001b[0m\u001b[1;33m\u001b[0m\u001b[0m\n\u001b[0;32m     34\u001b[0m \u001b[1;33m\u001b[0m\u001b[0m\n",
      "\u001b[1;32m~\\Anaconda3\\lib\\site-packages\\pymorphy2\\analyzer.py\u001b[0m in \u001b[0;36minflect\u001b[1;34m(self, required_grammemes)\u001b[0m\n\u001b[0;32m     33\u001b[0m \u001b[1;33m\u001b[0m\u001b[0m\n\u001b[0;32m     34\u001b[0m     \u001b[1;32mdef\u001b[0m \u001b[0minflect\u001b[0m\u001b[1;33m(\u001b[0m\u001b[0mself\u001b[0m\u001b[1;33m,\u001b[0m \u001b[0mrequired_grammemes\u001b[0m\u001b[1;33m)\u001b[0m\u001b[1;33m:\u001b[0m\u001b[1;33m\u001b[0m\u001b[0m\n\u001b[1;32m---> 35\u001b[1;33m         \u001b[0mres\u001b[0m \u001b[1;33m=\u001b[0m \u001b[0mself\u001b[0m\u001b[1;33m.\u001b[0m\u001b[0m_morph\u001b[0m\u001b[1;33m.\u001b[0m\u001b[0m_inflect\u001b[0m\u001b[1;33m(\u001b[0m\u001b[0mself\u001b[0m\u001b[1;33m,\u001b[0m \u001b[0mrequired_grammemes\u001b[0m\u001b[1;33m)\u001b[0m\u001b[1;33m\u001b[0m\u001b[0m\n\u001b[0m\u001b[0;32m     36\u001b[0m         \u001b[1;32mreturn\u001b[0m \u001b[1;32mNone\u001b[0m \u001b[1;32mif\u001b[0m \u001b[1;32mnot\u001b[0m \u001b[0mres\u001b[0m \u001b[1;32melse\u001b[0m \u001b[0mres\u001b[0m\u001b[1;33m[\u001b[0m\u001b[1;36m0\u001b[0m\u001b[1;33m]\u001b[0m\u001b[1;33m\u001b[0m\u001b[0m\n\u001b[0;32m     37\u001b[0m \u001b[1;33m\u001b[0m\u001b[0m\n",
      "\u001b[1;32m~\\Anaconda3\\lib\\site-packages\\pymorphy2\\analyzer.py\u001b[0m in \u001b[0;36m_inflect\u001b[1;34m(self, form, required_grammemes)\u001b[0m\n\u001b[0;32m    363\u001b[0m                                 if required_grammemes <= f[1].grammemes]\n\u001b[0;32m    364\u001b[0m \u001b[1;33m\u001b[0m\u001b[0m\n\u001b[1;32m--> 365\u001b[1;33m         \u001b[0mgrammemes\u001b[0m \u001b[1;33m=\u001b[0m \u001b[0mform\u001b[0m\u001b[1;33m[\u001b[0m\u001b[1;36m1\u001b[0m\u001b[1;33m]\u001b[0m\u001b[1;33m.\u001b[0m\u001b[0mupdated_grammemes\u001b[0m\u001b[1;33m(\u001b[0m\u001b[0mrequired_grammemes\u001b[0m\u001b[1;33m)\u001b[0m\u001b[1;33m\u001b[0m\u001b[0m\n\u001b[0m\u001b[0;32m    366\u001b[0m         \u001b[1;32mdef\u001b[0m \u001b[0msimilarity\u001b[0m\u001b[1;33m(\u001b[0m\u001b[0mfrm\u001b[0m\u001b[1;33m)\u001b[0m\u001b[1;33m:\u001b[0m\u001b[1;33m\u001b[0m\u001b[0m\n\u001b[0;32m    367\u001b[0m             \u001b[0mtag\u001b[0m \u001b[1;33m=\u001b[0m \u001b[0mfrm\u001b[0m\u001b[1;33m[\u001b[0m\u001b[1;36m1\u001b[0m\u001b[1;33m]\u001b[0m\u001b[1;33m\u001b[0m\u001b[0m\n",
      "\u001b[1;32m~\\Anaconda3\\lib\\site-packages\\pymorphy2\\tagset.py\u001b[0m in \u001b[0;36mupdated_grammemes\u001b[1;34m(self, required)\u001b[0m\n\u001b[0;32m    411\u001b[0m         \u001b[1;32mfor\u001b[0m \u001b[0mgrammeme\u001b[0m \u001b[1;32min\u001b[0m \u001b[0mrequired\u001b[0m\u001b[1;33m:\u001b[0m\u001b[1;33m\u001b[0m\u001b[0m\n\u001b[0;32m    412\u001b[0m             \u001b[1;32mif\u001b[0m \u001b[1;32mnot\u001b[0m \u001b[0mself\u001b[0m\u001b[1;33m.\u001b[0m\u001b[0mgrammeme_is_known\u001b[0m\u001b[1;33m(\u001b[0m\u001b[0mgrammeme\u001b[0m\u001b[1;33m)\u001b[0m\u001b[1;33m:\u001b[0m\u001b[1;33m\u001b[0m\u001b[0m\n\u001b[1;32m--> 413\u001b[1;33m                 \u001b[1;32mraise\u001b[0m \u001b[0mValueError\u001b[0m\u001b[1;33m(\u001b[0m\u001b[1;34m\"Unknown grammeme: %s\"\u001b[0m \u001b[1;33m%\u001b[0m \u001b[0mgrammeme\u001b[0m\u001b[1;33m)\u001b[0m\u001b[1;33m\u001b[0m\u001b[0m\n\u001b[0m\u001b[0;32m    414\u001b[0m             \u001b[0mnew_grammemes\u001b[0m \u001b[1;33m-=\u001b[0m \u001b[0mself\u001b[0m\u001b[1;33m.\u001b[0m\u001b[0m_GRAMMEME_INCOMPATIBLE\u001b[0m\u001b[1;33m[\u001b[0m\u001b[0mgrammeme\u001b[0m\u001b[1;33m]\u001b[0m\u001b[1;33m\u001b[0m\u001b[0m\n\u001b[0;32m    415\u001b[0m         \u001b[1;32mreturn\u001b[0m \u001b[0mnew_grammemes\u001b[0m\u001b[1;33m\u001b[0m\u001b[0m\n",
      "\u001b[1;31mValueError\u001b[0m: Unknown grammeme: Qual plur"
     ]
    }
   ],
   "source": [
    "#новая версия\n",
    "\n",
    "new_sent = []\n",
    "for word in sent:\n",
    "    a = 0\n",
    "    w = pymorphy2_analyzer.parse(word)\n",
    "    \n",
    "    \n",
    "    if str(w[0].tag) == 'PNCT': #отсеиваем пунктуацию\n",
    "        new_sent.append(word)\n",
    "        \n",
    "    else:\n",
    "        \n",
    "        tags = str(w[0].tag).split(\",\")\n",
    "        print(tags)\n",
    "        PoS = d[w[0].tag.POS]\n",
    "        mod_word = w[0].normal_form + '_' + PoS\n",
    "        \n",
    "        if mod_word in model:\n",
    "            print('есть в модели')\n",
    "            res = model.most_similar(positive=[mod_word], topn=5)\n",
    "            \n",
    "            for elems in res:\n",
    "                t = elems[0].find('_')\n",
    "                new_PoS = elems[0].replace(elems[0][:t] + '_', '')\n",
    "                \n",
    "                if new_PoS == PoS and a == 0:\n",
    "                    slovo = elems[0].replace(PoS, '').replace('_', '')\n",
    "                    \n",
    "                    for tag in tags:\n",
    "                        analyz_slovo = pymorphy2_analyzer.parse(slovo)\n",
    "                        slovo_flec = analyz_slovo[0].inflect({tag})\n",
    "                        slovo = slovo_flec[0]\n",
    "                    \n",
    "                    new_sent.append(slovo)\n",
    "                    a = 1\n",
    "            print('\\n')\n",
    "        else:\n",
    "            print('нет в модели\\n')\n",
    "            new_sent.append(word)"
   ]
  },
  {
   "cell_type": "code",
   "execution_count": 355,
   "metadata": {},
   "outputs": [
    {
     "name": "stdout",
     "output_type": "stream",
     "text": [
      "три печальный дружка пойти \n"
     ]
    }
   ],
   "source": [
    "s = ''\n",
    "for elem in new_sent:\n",
    "    s += elem\n",
    "    s += ' '\n",
    "print(s)"
   ]
  },
  {
   "cell_type": "code",
   "execution_count": 323,
   "metadata": {},
   "outputs": [
    {
     "data": {
      "text/plain": [
       "'ежова'"
      ]
     },
     "execution_count": 323,
     "metadata": {},
     "output_type": "execute_result"
    }
   ],
   "source": [
    "w = pymorphy2_analyzer.parse('ежов')\n",
    "w_flec = w[0].inflect({'gent'})\n",
    "w = w_flec[0]\n",
    "w"
   ]
  },
  {
   "cell_type": "code",
   "execution_count": 124,
   "metadata": {},
   "outputs": [
    {
     "data": {
      "text/plain": [
       "'8'"
      ]
     },
     "execution_count": 124,
     "metadata": {},
     "output_type": "execute_result"
    }
   ],
   "source": [
    "j = str(next(cou))\n",
    "j"
   ]
  },
  {
   "cell_type": "code",
   "execution_count": 125,
   "metadata": {},
   "outputs": [],
   "source": [
    "tts = gTTS(text=s, lang=\"ru\")\n",
    "tts.save('audio'+ j +'.mp3')"
   ]
  },
  {
   "cell_type": "code",
   "execution_count": 126,
   "metadata": {},
   "outputs": [],
   "source": [
    "mixer.music.load('audio' + j + '.mp3')\n",
    "mixer.music.play()"
   ]
  },
  {
   "cell_type": "code",
   "execution_count": 132,
   "metadata": {},
   "outputs": [],
   "source": [
    "d = {\n",
    "    'ADJF': 'ADJ',\n",
    "    'ADVB': 'ADV',\n",
    "    'ADJS': 'ADJ',\n",
    "    'NUMR': 'NUM',\n",
    "    'PREP': 'ADP',\n",
    "    'CONJ': 'CCONJ',\n",
    "    'INFN': 'VERB',\n",
    "    'VERB': 'VERB',\n",
    "    'NOUN': 'NOUN',\n",
    "    'NPRO': 'PRON',\n",
    "    'PRTS': 'ADJ',\n",
    "    'PRTF': 'ADJ',\n",
    "    'INTJ': 'INTJ',\n",
    "    'PROPN': 'NOUN',\n",
    "    'PRCL': 'PART',\n",
    "    'PNCT': 'PNCT'\n",
    "}"
   ]
  },
  {
   "cell_type": "code",
   "execution_count": 106,
   "metadata": {},
   "outputs": [
    {
     "name": "stdout",
     "output_type": "stream",
     "text": [
      "всё_PART\n",
      "о_ADP\n",
      "тот_ADJ\n",
      "же_PART\n"
     ]
    },
    {
     "name": "stderr",
     "output_type": "stream",
     "text": [
      "C:\\Users\\user\\Anaconda3\\lib\\site-packages\\gensim\\matutils.py:737: FutureWarning: Conversion of the second argument of issubdtype from `int` to `np.signedinteger` is deprecated. In future, it will be treated as `np.int32 == np.dtype(int).type`.\n",
      "  if np.issubdtype(vec.dtype, np.int):\n"
     ]
    }
   ],
   "source": [
    "##старая версия\n",
    "\n",
    "new_sent = []\n",
    "for word in sent:\n",
    "    w = pymorphy2_analyzer.parse(word)\n",
    "    tag = d[w[0].tag.POS]\n",
    "    mod_word = w[0].normal_form + '_' + tag\n",
    "    if mod_word in model:\n",
    "        res = model.most_similar(positive=[mod_word], topn=1)\n",
    "        for elems in res:\n",
    "            elem = elems[0].replace(tag, '').replace('_', '').replace('NOUN', '').replace('PROPN', '')\n",
    "            new_sent.append(elem)\n",
    "    else:\n",
    "        print(mod_word)\n",
    "        new_sent.append(word)"
   ]
  }
 ],
 "metadata": {
  "kernelspec": {
   "display_name": "Python 3",
   "language": "python",
   "name": "python3"
  },
  "language_info": {
   "codemirror_mode": {
    "name": "ipython",
    "version": 3
   },
   "file_extension": ".py",
   "mimetype": "text/x-python",
   "name": "python",
   "nbconvert_exporter": "python",
   "pygments_lexer": "ipython3",
   "version": "3.6.5"
  }
 },
 "nbformat": 4,
 "nbformat_minor": 2
}
